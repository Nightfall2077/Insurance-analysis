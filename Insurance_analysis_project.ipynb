{
 "cells": [
  {
   "cell_type": "markdown",
   "id": "64087f69",
   "metadata": {},
   "source": [
    "# Questions to analyze\n",
    "<ol>\n",
    " <li>Cost difference between smokers and non-smokers and it's percentage increase\n",
    " <li>Total number of male and female individuals and their percentage increase in cost due to the difference in genders\n",
    " <li>Average age of individuals in the dataset \n",
    " <li>Average cost for individuals with 0,1,2,3,4,5 and all of them or all number of children\n",
    " <li>The region having the most patients\n"
   ]
  },
  {
   "cell_type": "markdown",
   "id": "ca13a35b",
   "metadata": {},
   "source": [
    "## Cost difference between smokers and non-smokers and it's percentage increase\n",
    "__This segment of code evaluates the _average insurance cost of smokers_ compared to a _non_smoker_.__\n",
    "<br>\n",
    "__This was done in order to see the difference this parameter makes in the overall cost.__ "
   ]
  },
  {
   "cell_type": "code",
   "execution_count": 1,
   "id": "70884586",
   "metadata": {},
   "outputs": [
    {
     "name": "stdout",
     "output_type": "stream",
     "text": [
      "The average cost for smokers is $32050.2, while the average cost for a non-smoker is $8434.3\n"
     ]
    }
   ],
   "source": [
    "import csv\n",
    "\n",
    "smoker_count = 0\n",
    "nonsmoker_count = 0\n",
    "sum_for_smokers = 0\n",
    "sum_for_nonsmokers = 0\n",
    "with open('insurance.csv') as insurance_data:\n",
    "    headings = insurance_data.readline().strip('\\n').split(',')\n",
    "    reader = csv.reader(insurance_data)\n",
    "    for row in reader:\n",
    "        if row[4] == 'yes':\n",
    "            smoker_count += 1\n",
    "            sum_for_smokers += float(row[6])\n",
    "        else:\n",
    "            nonsmoker_count += 1\n",
    "            sum_for_nonsmokers += float(row[6])\n",
    "    avg_cost_for_smokers = round(sum_for_smokers / smoker_count,1)\n",
    "    avg_cost_for_nonsmokers = round(sum_for_nonsmokers / nonsmoker_count,1)\n",
    "    print('The average cost for smokers is ${}, while the average cost for a non-smoker is ${}'.format(avg_cost_for_smokers, avg_cost_for_nonsmokers))"
   ]
  },
  {
   "cell_type": "markdown",
   "id": "2a601400",
   "metadata": {},
   "source": [
    "__Evaluation of percentage increase of insurance cost due to smoking__"
   ]
  },
  {
   "cell_type": "code",
   "execution_count": 2,
   "id": "5d5425cd",
   "metadata": {},
   "outputs": [
    {
     "name": "stdout",
     "output_type": "stream",
     "text": [
      "The percentage increase in insurance cost for smokers in relation to non smokers is 280.0%\n"
     ]
    }
   ],
   "source": [
    "def percentage_increase(m,f):\n",
    "    return round(((m-f)/f) * 100, 2)\n",
    "\n",
    "percent_increase = percentage_increase(avg_cost_for_smokers, avg_cost_for_nonsmokers)\n",
    "print('The percentage increase in insurance cost for smokers in relation to non smokers is {}%'.format(percent_increase))"
   ]
  },
  {
   "cell_type": "markdown",
   "id": "714a6b5f",
   "metadata": {},
   "source": [
    "## Total number of male and female individuals and their percentage increase in cost due to the difference in genders\n",
    "__This segment of code will be used to investigate the coorelation between the _insurance costs_ and _gender_ of the individual in question__"
   ]
  },
  {
   "cell_type": "code",
   "execution_count": 4,
   "id": "d48ad0ad",
   "metadata": {},
   "outputs": [
    {
     "name": "stdout",
     "output_type": "stream",
     "text": [
      "The percentage increase in insurance cost between a female and a male is 11.04% increase, this would suggest that gender and many other factors will affect the total cost\n"
     ]
    }
   ],
   "source": [
    "female_count = 0\n",
    "male_count = 0\n",
    "female_sum = 0\n",
    "male_sum = 0\n",
    "with open('insurance.csv') as insurance_data:\n",
    "    headers = insurance_data.readline().strip('\\n').split(',')\n",
    "    reader = csv.reader(insurance_data)\n",
    "    for row in reader:\n",
    "        if row[1] == 'female':\n",
    "            female_count += 1\n",
    "            female_sum += float(row[6])\n",
    "        else:\n",
    "            male_count += 1\n",
    "            male_sum += float(row[6])\n",
    "    average_female = female_sum/female_count\n",
    "    average_male = male_sum/male_count\n",
    "    \n",
    "print('The percentage increase in insurance cost between a female and a male is {}% increase, this would suggest that gender and many other factors will affect the total cost'.format(percentage_increase(average_male, average_female)))"
   ]
  },
  {
   "cell_type": "markdown",
   "id": "6ce91062",
   "metadata": {},
   "source": [
    "## Average age of individuals in the dataset\n",
    "__Now for a simple one, this segment will simply check the average age of the individuals in the dataset__"
   ]
  },
  {
   "cell_type": "code",
   "execution_count": 6,
   "id": "c2113513",
   "metadata": {},
   "outputs": [
    {
     "name": "stdout",
     "output_type": "stream",
     "text": [
      "The average age of the individuals in the dataset is 39 years of age\n"
     ]
    }
   ],
   "source": [
    "age_sum = 0\n",
    "age_count = 0\n",
    "with open('insurance.csv') as insurance_data:\n",
    "    header = insurance_data.readline()\n",
    "    reader = csv.reader(insurance_data)\n",
    "    for row in reader:\n",
    "        age_sum += int(row[0])\n",
    "        age_count += 1\n",
    "average_age = int(age_sum/age_count)\n",
    "print('The average age of the individuals in the dataset is {} years of age'.format(average_age))"
   ]
  },
  {
   "cell_type": "markdown",
   "id": "b81d887f",
   "metadata": {},
   "source": [
    "## Average cost for individuals with 0,1,2,3,4,5 and all of them or all number of children\n",
    "__For this section I set out to find the average cost of insurance for those with differing numbers of children due to the information possibly being useful for aspiring parents__ "
   ]
  },
  {
   "cell_type": "code",
   "execution_count": 7,
   "id": "2eab363c",
   "metadata": {},
   "outputs": [
    {
     "name": "stdout",
     "output_type": "stream",
     "text": [
      "{'0': 12366.0, '1': 12731.2, '2': 15073.6, '3': 15355.3, '4': 13850.7, '5': 8786.0, '>': 13949.9}\n"
     ]
    }
   ],
   "source": [
    "children0 = children1 = children2 = children3 = children4 = children5 = 0\n",
    "len0 = len1 = len2 = len3 = len4 = len5 = 0\n",
    "with open('insurance.csv') as insurance_data:\n",
    "    header = insurance_data.readline()\n",
    "    reader = csv.reader(insurance_data)\n",
    "    child_count_dict = {} \n",
    "    for row in reader:\n",
    "        for x in range(6):\n",
    "            if row[3] == '0':\n",
    "                len0 += 1\n",
    "                children0 += float(row[6])\n",
    "            elif row[3] == '1':\n",
    "                len1 += 1\n",
    "                children1 += float(row[6])\n",
    "            elif row[3] == '2':\n",
    "                len2 += 1\n",
    "                children2 += float(row[6])\n",
    "            elif row[3] == '3':\n",
    "                len3 += 1\n",
    "                children3 += float(row[6])\n",
    "            elif row[3] == '4':\n",
    "                len4 += 1\n",
    "                children4 += float(row[6])\n",
    "            elif row[3] == '5':\n",
    "                len5 += 1\n",
    "                children5 += float(row[6])\n",
    "child_count_dict['0'] = round(children0/len0,1)\n",
    "child_count_dict['1'] = round(children1/len1,1)\n",
    "child_count_dict['2'] = round(children2/len2,1)\n",
    "child_count_dict['3'] = round(children3/len3,1)\n",
    "child_count_dict['4'] = round(children4/len4,1)\n",
    "child_count_dict['5'] = round(children5/len5,1)\n",
    "above0 = children1 + children2 + children3 + children4 + children5\n",
    "len0 = len1 + len2 + len3 + len4 + len5\n",
    "child_count_dict['>'] = round(above0/len0,1)\n",
    "print(child_count_dict)\n",
    "    "
   ]
  },
  {
   "cell_type": "markdown",
   "id": "4f471738",
   "metadata": {},
   "source": [
    "## The region having the most patients\n",
    "__There are a number of regions in the dataset and as such I have set out to find the area with the most individuals__"
   ]
  },
  {
   "cell_type": "code",
   "execution_count": 21,
   "id": "3be147db",
   "metadata": {},
   "outputs": [
    {
     "name": "stdout",
     "output_type": "stream",
     "text": [
      "{'Southwest': 325, 'Southeast': 364, 'Northwest': 325, 'Northeast': 324}\n",
      "The region with the most individuals in the dataset is the \"Southeast\" area\n"
     ]
    }
   ],
   "source": [
    "southwest_counter = southeast_counter = northwest_counter = northeast_counter = max_region = 0\n",
    "counterdict = {}\n",
    "\n",
    "def findkey(dict,value):\n",
    "    for key in dict:\n",
    "        if dict[key] == value:\n",
    "            return key\n",
    "\n",
    "with open('insurance.csv') as insurance_data:\n",
    "    reader = csv.DictReader(insurance_data)\n",
    "    for data in reader:\n",
    "        if data['region'] == 'northwest':\n",
    "            northwest_counter += 1\n",
    "        elif data['region'] == 'northeast':\n",
    "            northeast_counter += 1\n",
    "        elif data['region'] == 'southwest':\n",
    "            southwest_counter += 1\n",
    "        else:\n",
    "            southeast_counter += 1\n",
    "counterdict.update({'Southwest':southwest_counter, 'Southeast':southeast_counter, 'Northwest':northwest_counter, 'Northeast':northeast_counter})\n",
    "\n",
    "for key,items in counterdict.items():\n",
    "    if items > max_region:\n",
    "        max_region = items\n",
    "    else:\n",
    "        continue\n",
    "print('The region with the most individuals in the dataset is the \"{}\" area'.format(findkey(counterdict, max_region)))\n",
    "        "
   ]
  }
 ],
 "metadata": {
  "kernelspec": {
   "display_name": "Python 3 (ipykernel)",
   "language": "python",
   "name": "python3"
  },
  "language_info": {
   "codemirror_mode": {
    "name": "ipython",
    "version": 3
   },
   "file_extension": ".py",
   "mimetype": "text/x-python",
   "name": "python",
   "nbconvert_exporter": "python",
   "pygments_lexer": "ipython3",
   "version": "3.9.12"
  }
 },
 "nbformat": 4,
 "nbformat_minor": 5
}
